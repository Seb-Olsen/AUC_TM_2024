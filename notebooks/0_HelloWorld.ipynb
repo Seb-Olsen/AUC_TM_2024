{
  "cells": [
    {
      "cell_type": "markdown",
      "metadata": {
        "id": "Z9kHxqAayFcc"
      },
      "source": [
        "# HelloWorld"
      ]
    },
    {
      "cell_type": "code",
      "execution_count": null,
      "metadata": {
        "id": "_as_s8JQyFcd"
      },
      "outputs": [],
      "source": [
        "import pandas as pd"
      ]
    },
    {
      "cell_type": "code",
      "execution_count": null,
      "metadata": {
        "id": "Z84BW9YHyFcd",
        "outputId": "2cd06f76-a2d5-4b4a-e89f-4c4379e3e7a3"
      },
      "outputs": [
        {
          "data": {
            "text/plain": [
              "'1.2.1'"
            ]
          },
          "execution_count": 2,
          "metadata": {},
          "output_type": "execute_result"
        }
      ],
      "source": [
        "pd.__version__"
      ]
    },
    {
      "cell_type": "markdown",
      "metadata": {
        "id": "UbBOy0WGyFce"
      },
      "source": [
        "### Variables and operations"
      ]
    },
    {
      "cell_type": "code",
      "execution_count": null,
      "metadata": {
        "id": "5RRVfvhAyFce"
      },
      "outputs": [],
      "source": [
        "a = 2\n",
        "b = a"
      ]
    },
    {
      "cell_type": "code",
      "execution_count": null,
      "metadata": {
        "id": "354EUa9byFce"
      },
      "outputs": [],
      "source": [
        "b += 10"
      ]
    },
    {
      "cell_type": "code",
      "execution_count": null,
      "metadata": {
        "id": "bnw0zRr6yFce",
        "outputId": "77f94f0a-0ca7-4543-9e85-a33dee0059ed"
      },
      "outputs": [
        {
          "data": {
            "text/plain": [
              "2"
            ]
          },
          "execution_count": 5,
          "metadata": {},
          "output_type": "execute_result"
        }
      ],
      "source": [
        "a"
      ]
    },
    {
      "cell_type": "code",
      "execution_count": null,
      "metadata": {
        "id": "W7xTYe4EyFce",
        "outputId": "4e3f4dd0-e80f-4e98-c700-abe22283bb2f"
      },
      "outputs": [
        {
          "data": {
            "text/plain": [
              "12"
            ]
          },
          "execution_count": 6,
          "metadata": {},
          "output_type": "execute_result"
        }
      ],
      "source": [
        "b"
      ]
    },
    {
      "cell_type": "code",
      "execution_count": null,
      "metadata": {
        "id": "i87iEybeyFce",
        "outputId": "1263802e-3116-4ab7-b2f2-495dd47aefa7"
      },
      "outputs": [
        {
          "name": "stdout",
          "output_type": "stream",
          "text": [
            "Hello World!\n"
          ]
        }
      ],
      "source": [
        "s = \"Hello World!\"\n",
        "print(s)"
      ]
    },
    {
      "cell_type": "code",
      "execution_count": null,
      "metadata": {
        "id": "gFwoM5LXyFce",
        "outputId": "ddb3b176-9fb9-40f1-f836-d8407e5ca02c"
      },
      "outputs": [
        {
          "data": {
            "text/plain": [
              "'!'"
            ]
          },
          "execution_count": 8,
          "metadata": {},
          "output_type": "execute_result"
        }
      ],
      "source": [
        "s[-1]"
      ]
    },
    {
      "cell_type": "code",
      "execution_count": null,
      "metadata": {
        "id": "9JVgDGA5yFce",
        "outputId": "fed493bc-b1be-4275-b860-7f87353baf7e"
      },
      "outputs": [
        {
          "data": {
            "text/plain": [
              "'Hello World!'"
            ]
          },
          "execution_count": 9,
          "metadata": {},
          "output_type": "execute_result"
        }
      ],
      "source": [
        "s"
      ]
    },
    {
      "cell_type": "markdown",
      "metadata": {
        "id": "UNUQhgdTyFce"
      },
      "source": [
        "### Data structures"
      ]
    },
    {
      "cell_type": "code",
      "execution_count": null,
      "metadata": {
        "id": "4EPmavSDyFcf"
      },
      "outputs": [],
      "source": [
        "l = [1,2,3]\n",
        "d = {1:\"one\",2:\"two\",3:\"three\"}"
      ]
    },
    {
      "cell_type": "code",
      "execution_count": null,
      "metadata": {
        "id": "nZHlkml1yFcf",
        "outputId": "cb29f13b-eedf-47d0-fdfa-fd21334ef01e"
      },
      "outputs": [
        {
          "data": {
            "text/plain": [
              "[1, 2, 3, 4]"
            ]
          },
          "execution_count": 11,
          "metadata": {},
          "output_type": "execute_result"
        }
      ],
      "source": [
        "l.append(4)\n",
        "l"
      ]
    },
    {
      "cell_type": "code",
      "execution_count": null,
      "metadata": {
        "id": "7ti_d6JPyFcf",
        "outputId": "c12f7d20-d7cf-4daa-fc05-236ee0e15402"
      },
      "outputs": [
        {
          "data": {
            "text/plain": [
              "{1: 'one', 2: 'two', 3: 'three', 4: 'four'}"
            ]
          },
          "execution_count": 12,
          "metadata": {},
          "output_type": "execute_result"
        }
      ],
      "source": [
        "d.update({4:\"four\"})\n",
        "d"
      ]
    },
    {
      "cell_type": "code",
      "execution_count": null,
      "metadata": {
        "id": "2toHyJgjyFcf",
        "outputId": "3e70aa12-bbc8-4864-9fb1-89c8ef5612d6"
      },
      "outputs": [
        {
          "data": {
            "text/plain": [
              "3"
            ]
          },
          "execution_count": 13,
          "metadata": {},
          "output_type": "execute_result"
        }
      ],
      "source": [
        "l[2]"
      ]
    },
    {
      "cell_type": "code",
      "execution_count": null,
      "metadata": {
        "id": "g80Cuqh_yFcf",
        "outputId": "c256d4fb-4057-4a71-dfac-18e433662305"
      },
      "outputs": [
        {
          "data": {
            "text/plain": [
              "[2, 4, 6, 8]"
            ]
          },
          "execution_count": 14,
          "metadata": {},
          "output_type": "execute_result"
        }
      ],
      "source": [
        "# comprehensions\n",
        "\n",
        "[x*2 for x in l]"
      ]
    },
    {
      "cell_type": "code",
      "execution_count": null,
      "metadata": {
        "id": "wW5ex0SryFcf",
        "outputId": "c7afbf76-1476-47be-ad7b-d856261dc155"
      },
      "outputs": [
        {
          "data": {
            "text/plain": [
              "[1, 2, 3, 4, 1, 2, 3, 4]"
            ]
          },
          "execution_count": 15,
          "metadata": {},
          "output_type": "execute_result"
        }
      ],
      "source": [
        "# operations on lists\n",
        "\n",
        "l*2"
      ]
    },
    {
      "cell_type": "code",
      "execution_count": null,
      "metadata": {
        "id": "JuANAIx3yFcf",
        "outputId": "40c619e3-6ef0-4de2-b87e-40322826bc23"
      },
      "outputs": [
        {
          "data": {
            "text/plain": [
              "array([1, 2, 3, 4])"
            ]
          },
          "execution_count": 16,
          "metadata": {},
          "output_type": "execute_result"
        }
      ],
      "source": [
        "# arrays\n",
        "import numpy as np\n",
        "\n",
        "v = np.array(l)\n",
        "v"
      ]
    },
    {
      "cell_type": "code",
      "execution_count": null,
      "metadata": {
        "id": "TTMrjO1kyFcf",
        "outputId": "9ab5d6c4-91b3-4660-f909-abaac81924dc"
      },
      "outputs": [
        {
          "data": {
            "text/plain": [
              "array([2, 4, 6, 8])"
            ]
          },
          "execution_count": 17,
          "metadata": {},
          "output_type": "execute_result"
        }
      ],
      "source": [
        "# broadcasting\n",
        "\n",
        "v*2"
      ]
    },
    {
      "cell_type": "markdown",
      "metadata": {
        "id": "vX9AJTC9yFcf"
      },
      "source": [
        "### Looping"
      ]
    },
    {
      "cell_type": "code",
      "execution_count": null,
      "metadata": {
        "id": "Oi0JkIjqyFcf",
        "outputId": "c0b0fb50-8f65-4d66-8f64-039ecbf9608d"
      },
      "outputs": [
        {
          "name": "stdout",
          "output_type": "stream",
          "text": [
            "0.5\n",
            "1.0\n",
            "1.5\n",
            "2.0\n"
          ]
        }
      ],
      "source": [
        "for x in l:\n",
        "    print(x/2)"
      ]
    },
    {
      "cell_type": "code",
      "execution_count": null,
      "metadata": {
        "id": "QydGd3wAyFcf",
        "outputId": "2eaf3a5b-6cc2-4936-c0af-d25867390cd3"
      },
      "outputs": [
        {
          "name": "stdout",
          "output_type": "stream",
          "text": [
            "1\n",
            "2\n",
            "3\n",
            "4\n"
          ]
        }
      ],
      "source": [
        "n = 0\n",
        "\n",
        "while n < len(l):\n",
        "    print(l[n])\n",
        "    n += 1"
      ]
    },
    {
      "cell_type": "code",
      "execution_count": null,
      "metadata": {
        "id": "HaWwsUqeyFcf",
        "outputId": "c460f945-9c2a-48b0-c1be-b92443ff8fb7"
      },
      "outputs": [
        {
          "data": {
            "text/plain": [
              "[4, 3, 2, 1]"
            ]
          },
          "execution_count": 20,
          "metadata": {},
          "output_type": "execute_result"
        }
      ],
      "source": [
        "sorted(l, reverse=True)"
      ]
    },
    {
      "cell_type": "code",
      "execution_count": null,
      "metadata": {
        "id": "iwejgzWtyFcg",
        "outputId": "39436ef0-10a4-4a51-d2df-9c381d256bac"
      },
      "outputs": [
        {
          "name": "stdout",
          "output_type": "stream",
          "text": [
            "1\n",
            "2\n"
          ]
        }
      ],
      "source": [
        "for n,x in enumerate(l):\n",
        "    if n < 2:\n",
        "        print(x)"
      ]
    },
    {
      "cell_type": "markdown",
      "metadata": {
        "id": "bkGXJZpXyFcg"
      },
      "source": [
        "### Functions"
      ]
    },
    {
      "cell_type": "code",
      "execution_count": null,
      "metadata": {
        "id": "-mFUcz9ZyFcg"
      },
      "outputs": [],
      "source": [
        "def power(x,p=2):\n",
        "    return x**p"
      ]
    },
    {
      "cell_type": "code",
      "execution_count": null,
      "metadata": {
        "id": "AU2mzVa-yFcg",
        "outputId": "68c2aa71-be09-46f5-afd7-7014dc472d6c"
      },
      "outputs": [
        {
          "data": {
            "text/plain": [
              "4"
            ]
          },
          "execution_count": 23,
          "metadata": {},
          "output_type": "execute_result"
        }
      ],
      "source": [
        "power(2)"
      ]
    },
    {
      "cell_type": "code",
      "execution_count": null,
      "metadata": {
        "id": "rWUGgWYHyFcg",
        "outputId": "64d8350d-5b6f-4c1e-a3f3-5f418c959bcb"
      },
      "outputs": [
        {
          "data": {
            "text/plain": [
              "8"
            ]
          },
          "execution_count": 24,
          "metadata": {},
          "output_type": "execute_result"
        }
      ],
      "source": [
        "power(2,3)"
      ]
    },
    {
      "cell_type": "markdown",
      "metadata": {
        "id": "St5HhSn4yFcg"
      },
      "source": [
        "### Questions\n",
        "\n",
        "* Create a list coprehension with an if condition inside.\n",
        "* Create a function that brings a string to lowercase and removes its punctuation."
      ]
    },
    {
      "cell_type": "code",
      "source": [
        "import string\n",
        "word = \"Dog!\"\n",
        "word = word.lower()\n",
        "print(word)"
      ],
      "metadata": {
        "id": "vIg36KNoyIbD",
        "outputId": "7fac99d6-38c6-40c5-a30f-7acb6fc07839",
        "colab": {
          "base_uri": "https://localhost:8080/"
        }
      },
      "execution_count": 2,
      "outputs": [
        {
          "output_type": "stream",
          "name": "stdout",
          "text": [
            "dog!\n"
          ]
        }
      ]
    }
  ],
  "metadata": {
    "kernelspec": {
      "display_name": "Python 3",
      "language": "python",
      "name": "python3"
    },
    "language_info": {
      "codemirror_mode": {
        "name": "ipython",
        "version": 3
      },
      "file_extension": ".py",
      "mimetype": "text/x-python",
      "name": "python",
      "nbconvert_exporter": "python",
      "pygments_lexer": "ipython3",
      "version": "3.8.5"
    },
    "toc": {
      "nav_menu": {},
      "number_sections": true,
      "sideBar": true,
      "skip_h1_title": false,
      "title_cell": "Table of Contents",
      "title_sidebar": "Contents",
      "toc_cell": false,
      "toc_position": {},
      "toc_section_display": true,
      "toc_window_display": false
    },
    "colab": {
      "provenance": []
    }
  },
  "nbformat": 4,
  "nbformat_minor": 0
}